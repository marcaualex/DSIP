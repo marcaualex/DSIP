{
  "nbformat": 4,
  "nbformat_minor": 0,
  "metadata": {
    "colab": {
      "name": "VotingClassifier.ipynb",
      "provenance": []
    },
    "kernelspec": {
      "name": "python3",
      "display_name": "Python 3"
    }
  },
  "cells": [
    {
      "cell_type": "code",
      "metadata": {
        "id": "X1vm700cHRDY"
      },
      "source": [
        "import pandas as pd\r\n",
        "import numpy as np\r\n",
        "import seaborn as sns"
      ],
      "execution_count": 1,
      "outputs": []
    },
    {
      "cell_type": "code",
      "metadata": {
        "id": "XlshoT2SHSFn"
      },
      "source": [
        "\r\n",
        "data = pd.read_csv(\"trainDatasetClean.csv\")\r\n",
        "data_X = data_X=data.drop(['Loan_Status'],axis=1)\r\n",
        "data_y = data['Loan_Status']\r\n",
        "data_test = data_X\r\n",
        "\r\n",
        "from sklearn.linear_model import LogisticRegression\r\n",
        "from sklearn.model_selection import train_test_split\r\n",
        "from sklearn import metrics\r\n"
      ],
      "execution_count": 2,
      "outputs": []
    },
    {
      "cell_type": "code",
      "metadata": {
        "colab": {
          "base_uri": "https://localhost:8080/"
        },
        "id": "ZVjgpuvsHWb4",
        "outputId": "c0cfc9f6-0937-43a2-e4ab-b59533e99dc5"
      },
      "source": [
        " from sklearn.ensemble import VotingClassifier\r\n",
        "from sklearn.tree import DecisionTreeClassifier\r\n",
        "from sklearn.ensemble import RandomForestClassifier\r\n",
        " test_X = data_test.drop(['ApplicantIncome', 'CoapplicantIncome', 'LoanAmount',\r\n",
        "       'Loan_Amount_Term', 'Dependents_0','Dependents_3+','Dependents_2', 'Gender_Female', 'Gender_Male', 'Married_No','Education_Graduate', 'Education_Not Graduate',\r\n",
        "       'Self_Employed_No'],axis=1)\r\n",
        "X_train, X_test, y_train, y_test = train_test_split(test_X, data_y, test_size=0.25, random_state=0)\r\n",
        "logreg = LogisticRegression()\r\n",
        "logreg.fit(X_train, y_train)\r\n",
        "Dtree = DecisionTreeClassifier(criterion = 'entropy').fit(X_train,y_train)\r\n",
        "\r\n",
        " LogRegPrediction = logreg.predict(X_test)\r\n",
        " DecisionPrediction = Dtree.predict(X_test)\r\n",
        "clf = RandomForestClassifier(n_estimators=100, max_depth=4,random_state=0)\r\n",
        "\r\n",
        "score_RF=clf.fit(X_train,y_train).score(X_test,y_test)\r\n",
        "score_LR=logreg.fit(X_train,y_train).score(X_test,y_test)\r\n",
        "score_DT=Dtree.fit(X_train,y_train).score(X_test,y_test)\r\n",
        "\r\n",
        "from sklearn.naive_bayes import GaussianNB\r\n",
        "classifier = GaussianNB()\r\n",
        "NayivePrediction = classifier.fit(X_train,y_train)\r\n",
        "from sklearn.neighbors import KNeighborsClassifier\r\n",
        "classifierKNN = KNeighborsClassifier(n_neighbors = 5, metric = 'minkowski', p = 2)\r\n",
        "classifierKNN.fit(X_train, y_train)\r\n",
        "print('Accuracy of logistic regression classifier on test set: {:.2f}'.format(logreg.score(X_test, y_test)))\r\n",
        "print('Accuracy of Decision Tree classifier on test set: {:.2f}'.format(Dtree.score(X_test, y_test)))\r\n",
        "\r\n",
        "\r\n",
        "est_Ensemble = VotingClassifier(estimators=[('AB', logreg), ('RF', Dtree),('CLF',clf),('NB',classifier),('KNN',classifierKNN)],\r\n",
        "                        voting='hard',\r\n",
        "                        weights=[3,2,3,3,1])\r\n",
        "\r\n",
        "score_Ensemble=est_Ensemble.fit(X_train,y_train).score(X_test,y_test)\r\n",
        "\r\n",
        "print('Accuracy of voting classifier on test set: {:.2f}'.format(est_Ensemble.score(X_test, y_test)))\r\n",
        "print(\"The prediction RandomForest accuracy is: \",clf.score(X_test,y_test)*100,\"%\")\r\n",
        "print(\"The prediction Nayive accuracy is: \",classifier.score(X_test,y_test)*100,\"%\")\r\n",
        "print(\"The prediction Decision accuracy is: \",Dtree.score(X_test,y_test)*100,\"%\")\r\n",
        "print(\"The prediction LogReg accuracy is: \",logreg.score(X_test,y_test)*100,\"%\")\r\n",
        "print(\"The prediction KNN accuracy is: \",classifierKNN.score(X_test,y_test)*100,\"%\")\r\n",
        "print(\"The prediction accuracy is: \",est_Ensemble.score(X_test,y_test)*100,\"%\")"
      ],
      "execution_count": 3,
      "outputs": [
        {
          "output_type": "stream",
          "text": [
            "Accuracy of logistic regression classifier on test set: 0.82\n",
            "Accuracy of Decision Tree classifier on test set: 0.71\n",
            "Accuracy of voting classifier on test set: 0.82\n",
            "The prediction RandomForest accuracy is:  82.46753246753246 %\n",
            "The prediction Nayive accuracy is:  82.46753246753246 %\n",
            "The prediction Decision accuracy is:  71.42857142857143 %\n",
            "The prediction LogReg accuracy is:  82.46753246753246 %\n",
            "The prediction KNN accuracy is:  65.5844155844156 %\n",
            "The prediction accuracy is:  82.46753246753246 %\n"
          ],
          "name": "stdout"
        }
      ]
    }
  ]
}
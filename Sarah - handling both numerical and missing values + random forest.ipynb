{
  "nbformat": 4,
  "nbformat_minor": 0,
  "metadata": {
    "colab": {
      "name": "Untitled0.ipynb",
      "provenance": [],
      "authorship_tag": "ABX9TyPfO9iK3MtUlj/Rl2lxyblY",
      "include_colab_link": true
    },
    "kernelspec": {
      "name": "python3",
      "display_name": "Python 3"
    }
  },
  "cells": [
    {
      "cell_type": "markdown",
      "metadata": {
        "id": "view-in-github",
        "colab_type": "text"
      },
      "source": [
        "<a href=\"https://colab.research.google.com/github/marcaualex/DSIP/blob/main/Sarah%20-%20handling%20both%20numerical%20and%20missing%20values%20%2B%20random%20forest.ipynb\" target=\"_parent\"><img src=\"https://colab.research.google.com/assets/colab-badge.svg\" alt=\"Open In Colab\"/></a>"
      ]
    },
    {
      "cell_type": "code",
      "metadata": {
        "colab": {
          "base_uri": "https://localhost:8080/",
          "height": 204
        },
        "id": "86kiWO7mm8q6",
        "outputId": "666a94e0-bd81-4609-f037-82408669304c"
      },
      "source": [
        "import pandas as pd\r\n",
        "import numpy as np\r\n",
        "import matplotlib.pyplot as plt\r\n",
        "import seaborn as sns\r\n",
        "\r\n",
        "loanDf=pd.read_csv(\"train.csv\")\r\n",
        "loanDf.head()"
      ],
      "execution_count": 88,
      "outputs": [
        {
          "output_type": "execute_result",
          "data": {
            "text/html": [
              "<div>\n",
              "<style scoped>\n",
              "    .dataframe tbody tr th:only-of-type {\n",
              "        vertical-align: middle;\n",
              "    }\n",
              "\n",
              "    .dataframe tbody tr th {\n",
              "        vertical-align: top;\n",
              "    }\n",
              "\n",
              "    .dataframe thead th {\n",
              "        text-align: right;\n",
              "    }\n",
              "</style>\n",
              "<table border=\"1\" class=\"dataframe\">\n",
              "  <thead>\n",
              "    <tr style=\"text-align: right;\">\n",
              "      <th></th>\n",
              "      <th>Loan_ID</th>\n",
              "      <th>Gender</th>\n",
              "      <th>Married</th>\n",
              "      <th>Dependents</th>\n",
              "      <th>Education</th>\n",
              "      <th>Self_Employed</th>\n",
              "      <th>ApplicantIncome</th>\n",
              "      <th>CoapplicantIncome</th>\n",
              "      <th>LoanAmount</th>\n",
              "      <th>Loan_Amount_Term</th>\n",
              "      <th>Credit_History</th>\n",
              "      <th>Property_Area</th>\n",
              "      <th>Loan_Status</th>\n",
              "    </tr>\n",
              "  </thead>\n",
              "  <tbody>\n",
              "    <tr>\n",
              "      <th>0</th>\n",
              "      <td>LP001002</td>\n",
              "      <td>Male</td>\n",
              "      <td>No</td>\n",
              "      <td>0</td>\n",
              "      <td>Graduate</td>\n",
              "      <td>No</td>\n",
              "      <td>5849</td>\n",
              "      <td>0.0</td>\n",
              "      <td>146</td>\n",
              "      <td>360</td>\n",
              "      <td>1</td>\n",
              "      <td>Urban</td>\n",
              "      <td>Y</td>\n",
              "    </tr>\n",
              "    <tr>\n",
              "      <th>1</th>\n",
              "      <td>LP001003</td>\n",
              "      <td>Male</td>\n",
              "      <td>Yes</td>\n",
              "      <td>1</td>\n",
              "      <td>Graduate</td>\n",
              "      <td>No</td>\n",
              "      <td>4583</td>\n",
              "      <td>1508.0</td>\n",
              "      <td>128</td>\n",
              "      <td>360</td>\n",
              "      <td>1</td>\n",
              "      <td>Rural</td>\n",
              "      <td>N</td>\n",
              "    </tr>\n",
              "    <tr>\n",
              "      <th>2</th>\n",
              "      <td>LP001005</td>\n",
              "      <td>Male</td>\n",
              "      <td>Yes</td>\n",
              "      <td>0</td>\n",
              "      <td>Graduate</td>\n",
              "      <td>Yes</td>\n",
              "      <td>3000</td>\n",
              "      <td>0.0</td>\n",
              "      <td>66</td>\n",
              "      <td>360</td>\n",
              "      <td>1</td>\n",
              "      <td>Urban</td>\n",
              "      <td>Y</td>\n",
              "    </tr>\n",
              "    <tr>\n",
              "      <th>3</th>\n",
              "      <td>LP001006</td>\n",
              "      <td>Male</td>\n",
              "      <td>Yes</td>\n",
              "      <td>0</td>\n",
              "      <td>Not Graduate</td>\n",
              "      <td>No</td>\n",
              "      <td>2583</td>\n",
              "      <td>2358.0</td>\n",
              "      <td>120</td>\n",
              "      <td>360</td>\n",
              "      <td>1</td>\n",
              "      <td>Urban</td>\n",
              "      <td>Y</td>\n",
              "    </tr>\n",
              "    <tr>\n",
              "      <th>4</th>\n",
              "      <td>LP001008</td>\n",
              "      <td>Male</td>\n",
              "      <td>No</td>\n",
              "      <td>0</td>\n",
              "      <td>Graduate</td>\n",
              "      <td>No</td>\n",
              "      <td>6000</td>\n",
              "      <td>0.0</td>\n",
              "      <td>141</td>\n",
              "      <td>360</td>\n",
              "      <td>1</td>\n",
              "      <td>Urban</td>\n",
              "      <td>Y</td>\n",
              "    </tr>\n",
              "  </tbody>\n",
              "</table>\n",
              "</div>"
            ],
            "text/plain": [
              "    Loan_ID Gender Married  ... Credit_History Property_Area Loan_Status\n",
              "0  LP001002   Male      No  ...              1         Urban           Y\n",
              "1  LP001003   Male     Yes  ...              1         Rural           N\n",
              "2  LP001005   Male     Yes  ...              1         Urban           Y\n",
              "3  LP001006   Male     Yes  ...              1         Urban           Y\n",
              "4  LP001008   Male      No  ...              1         Urban           Y\n",
              "\n",
              "[5 rows x 13 columns]"
            ]
          },
          "metadata": {
            "tags": []
          },
          "execution_count": 88
        }
      ]
    },
    {
      "cell_type": "code",
      "metadata": {
        "colab": {
          "base_uri": "https://localhost:8080/",
          "height": 334
        },
        "id": "BFm_8YnkyinP",
        "outputId": "8d433448-e122-4724-84cf-db5cf9909960"
      },
      "source": [
        "data.describe()"
      ],
      "execution_count": 102,
      "outputs": [
        {
          "output_type": "execute_result",
          "data": {
            "text/html": [
              "<div>\n",
              "<style scoped>\n",
              "    .dataframe tbody tr th:only-of-type {\n",
              "        vertical-align: middle;\n",
              "    }\n",
              "\n",
              "    .dataframe tbody tr th {\n",
              "        vertical-align: top;\n",
              "    }\n",
              "\n",
              "    .dataframe thead th {\n",
              "        text-align: right;\n",
              "    }\n",
              "</style>\n",
              "<table border=\"1\" class=\"dataframe\">\n",
              "  <thead>\n",
              "    <tr style=\"text-align: right;\">\n",
              "      <th></th>\n",
              "      <th>ApplicantIncome</th>\n",
              "      <th>CoapplicantIncome</th>\n",
              "      <th>LoanAmount</th>\n",
              "      <th>Loan_Amount_Term</th>\n",
              "      <th>Dependents_0</th>\n",
              "      <th>Dependents_1</th>\n",
              "      <th>Dependents_2</th>\n",
              "      <th>Dependents_3+</th>\n",
              "      <th>Gender_Female</th>\n",
              "      <th>Gender_Male</th>\n",
              "      <th>Married_No</th>\n",
              "      <th>Married_Yes</th>\n",
              "      <th>Education_Graduate</th>\n",
              "      <th>Education_Not Graduate</th>\n",
              "      <th>Self_Employed_No</th>\n",
              "      <th>Self_Employed_Yes</th>\n",
              "      <th>Property_Area_Rural</th>\n",
              "      <th>Property_Area_Semiurban</th>\n",
              "      <th>Property_Area_Urban</th>\n",
              "      <th>Credit_History_0</th>\n",
              "      <th>Credit_History_1</th>\n",
              "    </tr>\n",
              "  </thead>\n",
              "  <tbody>\n",
              "    <tr>\n",
              "      <th>count</th>\n",
              "      <td>614.000000</td>\n",
              "      <td>614.000000</td>\n",
              "      <td>614.000000</td>\n",
              "      <td>614.000000</td>\n",
              "      <td>614.000000</td>\n",
              "      <td>614.000000</td>\n",
              "      <td>614.000000</td>\n",
              "      <td>614.000000</td>\n",
              "      <td>614.000000</td>\n",
              "      <td>614.000000</td>\n",
              "      <td>614.000000</td>\n",
              "      <td>614.000000</td>\n",
              "      <td>614.000000</td>\n",
              "      <td>614.000000</td>\n",
              "      <td>614.000000</td>\n",
              "      <td>614.000000</td>\n",
              "      <td>614.000000</td>\n",
              "      <td>614.000000</td>\n",
              "      <td>614.000000</td>\n",
              "      <td>614.000000</td>\n",
              "      <td>614.000000</td>\n",
              "    </tr>\n",
              "    <tr>\n",
              "      <th>mean</th>\n",
              "      <td>5403.459283</td>\n",
              "      <td>1621.245798</td>\n",
              "      <td>146.371336</td>\n",
              "      <td>342.410423</td>\n",
              "      <td>0.586319</td>\n",
              "      <td>0.166124</td>\n",
              "      <td>0.164495</td>\n",
              "      <td>0.083062</td>\n",
              "      <td>0.187296</td>\n",
              "      <td>0.812704</td>\n",
              "      <td>0.348534</td>\n",
              "      <td>0.651466</td>\n",
              "      <td>0.781759</td>\n",
              "      <td>0.218241</td>\n",
              "      <td>0.866450</td>\n",
              "      <td>0.133550</td>\n",
              "      <td>0.291531</td>\n",
              "      <td>0.379479</td>\n",
              "      <td>0.328990</td>\n",
              "      <td>0.161238</td>\n",
              "      <td>0.838762</td>\n",
              "    </tr>\n",
              "    <tr>\n",
              "      <th>std</th>\n",
              "      <td>6109.041673</td>\n",
              "      <td>2926.248369</td>\n",
              "      <td>84.040048</td>\n",
              "      <td>64.428629</td>\n",
              "      <td>0.492894</td>\n",
              "      <td>0.372495</td>\n",
              "      <td>0.371027</td>\n",
              "      <td>0.276201</td>\n",
              "      <td>0.390467</td>\n",
              "      <td>0.390467</td>\n",
              "      <td>0.476895</td>\n",
              "      <td>0.476895</td>\n",
              "      <td>0.413389</td>\n",
              "      <td>0.413389</td>\n",
              "      <td>0.340446</td>\n",
              "      <td>0.340446</td>\n",
              "      <td>0.454838</td>\n",
              "      <td>0.485653</td>\n",
              "      <td>0.470229</td>\n",
              "      <td>0.368050</td>\n",
              "      <td>0.368050</td>\n",
              "    </tr>\n",
              "    <tr>\n",
              "      <th>min</th>\n",
              "      <td>150.000000</td>\n",
              "      <td>0.000000</td>\n",
              "      <td>9.000000</td>\n",
              "      <td>12.000000</td>\n",
              "      <td>0.000000</td>\n",
              "      <td>0.000000</td>\n",
              "      <td>0.000000</td>\n",
              "      <td>0.000000</td>\n",
              "      <td>0.000000</td>\n",
              "      <td>0.000000</td>\n",
              "      <td>0.000000</td>\n",
              "      <td>0.000000</td>\n",
              "      <td>0.000000</td>\n",
              "      <td>0.000000</td>\n",
              "      <td>0.000000</td>\n",
              "      <td>0.000000</td>\n",
              "      <td>0.000000</td>\n",
              "      <td>0.000000</td>\n",
              "      <td>0.000000</td>\n",
              "      <td>0.000000</td>\n",
              "      <td>0.000000</td>\n",
              "    </tr>\n",
              "    <tr>\n",
              "      <th>25%</th>\n",
              "      <td>2877.500000</td>\n",
              "      <td>0.000000</td>\n",
              "      <td>100.250000</td>\n",
              "      <td>360.000000</td>\n",
              "      <td>0.000000</td>\n",
              "      <td>0.000000</td>\n",
              "      <td>0.000000</td>\n",
              "      <td>0.000000</td>\n",
              "      <td>0.000000</td>\n",
              "      <td>1.000000</td>\n",
              "      <td>0.000000</td>\n",
              "      <td>0.000000</td>\n",
              "      <td>1.000000</td>\n",
              "      <td>0.000000</td>\n",
              "      <td>1.000000</td>\n",
              "      <td>0.000000</td>\n",
              "      <td>0.000000</td>\n",
              "      <td>0.000000</td>\n",
              "      <td>0.000000</td>\n",
              "      <td>0.000000</td>\n",
              "      <td>1.000000</td>\n",
              "    </tr>\n",
              "    <tr>\n",
              "      <th>50%</th>\n",
              "      <td>3812.500000</td>\n",
              "      <td>1188.500000</td>\n",
              "      <td>129.000000</td>\n",
              "      <td>360.000000</td>\n",
              "      <td>1.000000</td>\n",
              "      <td>0.000000</td>\n",
              "      <td>0.000000</td>\n",
              "      <td>0.000000</td>\n",
              "      <td>0.000000</td>\n",
              "      <td>1.000000</td>\n",
              "      <td>0.000000</td>\n",
              "      <td>1.000000</td>\n",
              "      <td>1.000000</td>\n",
              "      <td>0.000000</td>\n",
              "      <td>1.000000</td>\n",
              "      <td>0.000000</td>\n",
              "      <td>0.000000</td>\n",
              "      <td>0.000000</td>\n",
              "      <td>0.000000</td>\n",
              "      <td>0.000000</td>\n",
              "      <td>1.000000</td>\n",
              "    </tr>\n",
              "    <tr>\n",
              "      <th>75%</th>\n",
              "      <td>5795.000000</td>\n",
              "      <td>2297.250000</td>\n",
              "      <td>164.750000</td>\n",
              "      <td>360.000000</td>\n",
              "      <td>1.000000</td>\n",
              "      <td>0.000000</td>\n",
              "      <td>0.000000</td>\n",
              "      <td>0.000000</td>\n",
              "      <td>0.000000</td>\n",
              "      <td>1.000000</td>\n",
              "      <td>1.000000</td>\n",
              "      <td>1.000000</td>\n",
              "      <td>1.000000</td>\n",
              "      <td>0.000000</td>\n",
              "      <td>1.000000</td>\n",
              "      <td>0.000000</td>\n",
              "      <td>1.000000</td>\n",
              "      <td>1.000000</td>\n",
              "      <td>1.000000</td>\n",
              "      <td>0.000000</td>\n",
              "      <td>1.000000</td>\n",
              "    </tr>\n",
              "    <tr>\n",
              "      <th>max</th>\n",
              "      <td>81000.000000</td>\n",
              "      <td>41667.000000</td>\n",
              "      <td>700.000000</td>\n",
              "      <td>480.000000</td>\n",
              "      <td>1.000000</td>\n",
              "      <td>1.000000</td>\n",
              "      <td>1.000000</td>\n",
              "      <td>1.000000</td>\n",
              "      <td>1.000000</td>\n",
              "      <td>1.000000</td>\n",
              "      <td>1.000000</td>\n",
              "      <td>1.000000</td>\n",
              "      <td>1.000000</td>\n",
              "      <td>1.000000</td>\n",
              "      <td>1.000000</td>\n",
              "      <td>1.000000</td>\n",
              "      <td>1.000000</td>\n",
              "      <td>1.000000</td>\n",
              "      <td>1.000000</td>\n",
              "      <td>1.000000</td>\n",
              "      <td>1.000000</td>\n",
              "    </tr>\n",
              "  </tbody>\n",
              "</table>\n",
              "</div>"
            ],
            "text/plain": [
              "       ApplicantIncome  CoapplicantIncome  ...  Credit_History_0  Credit_History_1\n",
              "count       614.000000         614.000000  ...        614.000000        614.000000\n",
              "mean       5403.459283        1621.245798  ...          0.161238          0.838762\n",
              "std        6109.041673        2926.248369  ...          0.368050          0.368050\n",
              "min         150.000000           0.000000  ...          0.000000          0.000000\n",
              "25%        2877.500000           0.000000  ...          0.000000          1.000000\n",
              "50%        3812.500000        1188.500000  ...          0.000000          1.000000\n",
              "75%        5795.000000        2297.250000  ...          0.000000          1.000000\n",
              "max       81000.000000       41667.000000  ...          1.000000          1.000000\n",
              "\n",
              "[8 rows x 21 columns]"
            ]
          },
          "metadata": {
            "tags": []
          },
          "execution_count": 102
        }
      ]
    },
    {
      "cell_type": "code",
      "metadata": {
        "id": "xCUfJbfkyjrZ"
      },
      "source": [
        "from sklearn.base import TransformerMixin\r\n",
        "class DataFrameImputer(TransformerMixin):\r\n",
        "\r\n",
        "    def __init__(self):\r\n",
        "        \"\"\"Impute missing values.\r\n",
        "\r\n",
        "        Columns of dtype object are imputed with the most frequent value \r\n",
        "        in column.\r\n",
        "\r\n",
        "        Columns of other types are imputed with mean of column.\r\n",
        "\r\n",
        "        \"\"\"\r\n",
        "    def fit(self, X, y=None):\r\n",
        "\r\n",
        "        self.fill = pd.Series([X[c].value_counts().index[0]\r\n",
        "            if X[c].dtype == np.dtype('O') else X[c].median() for c in X],\r\n",
        "            index=X.columns)\r\n",
        "\r\n",
        "        return self\r\n",
        "\r\n",
        "    def transform(self, X, y=None):\r\n",
        "        return X.fillna(self.fill)\r\n",
        "\r\n",
        "    \r\n",
        "loanDf_imp = DataFrameImputer().fit_transform(loanDf)"
      ],
      "execution_count": 134,
      "outputs": []
    },
    {
      "cell_type": "code",
      "metadata": {
        "colab": {
          "base_uri": "https://localhost:8080/"
        },
        "id": "xraLxM4mBPRR",
        "outputId": "071758d9-b6cd-4bb1-ea66-49df0fc1afa0"
      },
      "source": [
        "loanDf_imp.isnull().sum().sort_values(ascending=False)"
      ],
      "execution_count": 112,
      "outputs": [
        {
          "output_type": "execute_result",
          "data": {
            "text/plain": [
              "total_income         0\n",
              "Loan_Status          0\n",
              "Property_Area        0\n",
              "Credit_History       0\n",
              "Loan_Amount_Term     0\n",
              "LoanAmount           0\n",
              "CoapplicantIncome    0\n",
              "ApplicantIncome      0\n",
              "Self_Employed        0\n",
              "Education            0\n",
              "Dependents           0\n",
              "Married              0\n",
              "Gender               0\n",
              "Loan_ID              0\n",
              "dtype: int64"
            ]
          },
          "metadata": {
            "tags": []
          },
          "execution_count": 112
        }
      ]
    },
    {
      "cell_type": "code",
      "metadata": {
        "id": "uKkTIQAUBTnF"
      },
      "source": [
        "data=loanDf_imp\r\n",
        "cat_vars=['Dependents','Gender','Married','Education','Self_Employed','Property_Area','Credit_History']\r\n",
        "for var in cat_vars:\r\n",
        "    cat_list='var'+'_'+var\r\n",
        "    cat_list = pd.get_dummies(data[var], prefix=var)\r\n",
        "    data1=data.join(cat_list)\r\n",
        "    data=data1\r\n",
        "data_vars=data.columns.values.tolist()\r\n",
        "to_keep=[i for i in data_vars if i not in cat_vars]"
      ],
      "execution_count": 113,
      "outputs": []
    },
    {
      "cell_type": "code",
      "metadata": {
        "id": "r0w-yslEBYAJ"
      },
      "source": [
        "from sklearn.feature_selection import RFE\r\n",
        "from sklearn.linear_model import LogisticRegression\r\n",
        "logreg = LogisticRegression()\r\n",
        "rfe = RFE(logreg,5)\r\n",
        "\r\n",
        "data=data[to_keep].dropna()\r\n",
        "data_X=data.drop(['Loan_Status','Loan_ID'],axis=1)\r\n",
        "data_y=data['Loan_Status']"
      ],
      "execution_count": 114,
      "outputs": []
    },
    {
      "cell_type": "code",
      "metadata": {
        "colab": {
          "base_uri": "https://localhost:8080/"
        },
        "id": "v6qJ6JeIBcdE",
        "outputId": "b82b6a13-b360-4026-9946-126898fbd8f7"
      },
      "source": [
        "data_X.columns"
      ],
      "execution_count": 115,
      "outputs": [
        {
          "output_type": "execute_result",
          "data": {
            "text/plain": [
              "Index(['ApplicantIncome', 'CoapplicantIncome', 'LoanAmount',\n",
              "       'Loan_Amount_Term', 'total_income', 'Dependents_0', 'Dependents_1',\n",
              "       'Dependents_2', 'Dependents_3+', 'Gender_Female', 'Gender_Male',\n",
              "       'Married_No', 'Married_Yes', 'Education_Graduate',\n",
              "       'Education_Not Graduate', 'Self_Employed_No', 'Self_Employed_Yes',\n",
              "       'Property_Area_Rural', 'Property_Area_Semiurban', 'Property_Area_Urban',\n",
              "       'Credit_History_0', 'Credit_History_1'],\n",
              "      dtype='object')"
            ]
          },
          "metadata": {
            "tags": []
          },
          "execution_count": 115
        }
      ]
    },
    {
      "cell_type": "code",
      "metadata": {
        "id": "aAtdGNXVBe3W"
      },
      "source": [
        "testchi=data_X.drop(['ApplicantIncome', 'CoapplicantIncome', 'LoanAmount',\r\n",
        "       'Loan_Amount_Term', 'Dependents_0','Dependents_3+','Dependents_2', 'Gender_Female', 'Gender_Male', 'Married_No','Education_Graduate', 'Education_Not Graduate',\r\n",
        "       'Self_Employed_No', 'Self_Employed_Yes','Property_Area_Urban','total_income'],axis=1)"
      ],
      "execution_count": 116,
      "outputs": []
    },
    {
      "cell_type": "code",
      "metadata": {
        "colab": {
          "base_uri": "https://localhost:8080/"
        },
        "id": "RBBozAR0Bh7c",
        "outputId": "6e84436c-80d0-4ee4-e403-ac86c18b195a"
      },
      "source": [
        "from sklearn.linear_model import LogisticRegression\r\n",
        "\r\n",
        "\r\n",
        "X_train, X_test, y_train, y_test = train_test_split(testchi, data_y, test_size=0.3, random_state=0)\r\n",
        "\r\n",
        "logreg = LogisticRegression()\r\n",
        "logreg.fit(X_train, y_train)\r\n",
        "y_pred = logreg.predict(X_test)\r\n",
        "print('Accuracy of logistic regression classifier on test set: {:.2f}'.format(logreg.score(X_test, y_test)))"
      ],
      "execution_count": 118,
      "outputs": [
        {
          "output_type": "stream",
          "text": [
            "Accuracy of logistic regression classifier on test set: 0.82\n"
          ],
          "name": "stdout"
        }
      ]
    },
    {
      "cell_type": "code",
      "metadata": {
        "colab": {
          "base_uri": "https://localhost:8080/"
        },
        "id": "OG23Y9yUBnYA",
        "outputId": "ef9338c1-4f7c-4ca9-8c9c-03220212b14c"
      },
      "source": [
        "from sklearn.metrics import confusion_matrix,classification_report\r\n",
        "confusion_matrix = confusion_matrix(y_test, y_pred)\r\n",
        "print(confusion_matrix)\r\n",
        "print(classification_report(y_test, y_pred))"
      ],
      "execution_count": 122,
      "outputs": [
        {
          "output_type": "stream",
          "text": [
            "[[ 22  29]\n",
            " [  4 130]]\n",
            "              precision    recall  f1-score   support\n",
            "\n",
            "           N       0.85      0.43      0.57        51\n",
            "           Y       0.82      0.97      0.89       134\n",
            "\n",
            "    accuracy                           0.82       185\n",
            "   macro avg       0.83      0.70      0.73       185\n",
            "weighted avg       0.83      0.82      0.80       185\n",
            "\n"
          ],
          "name": "stdout"
        }
      ]
    },
    {
      "cell_type": "code",
      "metadata": {
        "colab": {
          "base_uri": "https://localhost:8080/"
        },
        "id": "bjqpLm7dBwdf",
        "outputId": "11a7a6f4-7a04-4966-c175-d42fcacdc38a"
      },
      "source": [
        "from sklearn.ensemble import RandomForestClassifier\r\n",
        "clf = RandomForestClassifier(n_estimators=100, max_depth=4,random_state=0)\r\n",
        "clf.fit(X_train, y_train)\r\n",
        "y_pred=clf.predict(X_test)\r\n",
        "print('Train Accuracy of Random Forest: {:.2f}'.format(clf.score(X_train, y_train)))\r\n",
        "print('Test Accuracy of Random Forest: {:.2f}'.format(clf.score(X_test, y_test)))"
      ],
      "execution_count": 124,
      "outputs": [
        {
          "output_type": "stream",
          "text": [
            "Train Accuracy of Random Forest: 0.80\n",
            "Test Accuracy of Random Forest: 0.82\n"
          ],
          "name": "stdout"
        }
      ]
    },
    {
      "cell_type": "code",
      "metadata": {
        "colab": {
          "base_uri": "https://localhost:8080/"
        },
        "id": "fZ1RfCWNB9tf",
        "outputId": "e467133e-c30c-4962-c115-82a2cd5978eb"
      },
      "source": [
        "from sklearn.metrics import confusion_matrix,classification_report\r\n",
        "print(confusion_matrix(y_train,clf.predict(X_train)))\r\n",
        "print(classification_report(y_train,clf.predict(X_train))) \r\n",
        "print(confusion_matrix(y_test, y_pred))\r\n",
        "print(classification_report(y_test, y_pred))"
      ],
      "execution_count": 125,
      "outputs": [
        {
          "output_type": "stream",
          "text": [
            "[[ 64  77]\n",
            " [  9 279]]\n",
            "              precision    recall  f1-score   support\n",
            "\n",
            "           N       0.88      0.45      0.60       141\n",
            "           Y       0.78      0.97      0.87       288\n",
            "\n",
            "    accuracy                           0.80       429\n",
            "   macro avg       0.83      0.71      0.73       429\n",
            "weighted avg       0.81      0.80      0.78       429\n",
            "\n",
            "[[ 22  29]\n",
            " [  4 130]]\n",
            "              precision    recall  f1-score   support\n",
            "\n",
            "           N       0.85      0.43      0.57        51\n",
            "           Y       0.82      0.97      0.89       134\n",
            "\n",
            "    accuracy                           0.82       185\n",
            "   macro avg       0.83      0.70      0.73       185\n",
            "weighted avg       0.83      0.82      0.80       185\n",
            "\n"
          ],
          "name": "stdout"
        }
      ]
    },
    {
      "cell_type": "code",
      "metadata": {
        "colab": {
          "base_uri": "https://localhost:8080/"
        },
        "id": "9qVdjBQFCEWW",
        "outputId": "4bf27d32-3cce-4f5f-8252-6157cc1023e2"
      },
      "source": [
        "data[data['Loan_Status']=='Y'].count()[0]/data.shape[0]"
      ],
      "execution_count": 126,
      "outputs": [
        {
          "output_type": "execute_result",
          "data": {
            "text/plain": [
              "0.6872964169381107"
            ]
          },
          "metadata": {
            "tags": []
          },
          "execution_count": 126
        }
      ]
    },
    {
      "cell_type": "code",
      "metadata": {
        "colab": {
          "base_uri": "https://localhost:8080/",
          "height": 309
        },
        "id": "Uq9HeD_iC9BR",
        "outputId": "c5b9c45a-5f23-4b79-ad24-a77564026a5e"
      },
      "source": [
        "loanDf_imp['total_income']=loanDf_imp['ApplicantIncome']+loanDf_imp['CoapplicantIncome']\r\n",
        "\r\n",
        "loanDf_imp['LoanAmount']=np.log(loanDf_imp['LoanAmount'])\r\n",
        "\r\n",
        "import matplotlib.pyplot as plt\r\n",
        "sns.heatmap(loanDf_imp[['total_income','LoanAmount','Loan_Amount_Term']].corr(), annot=True, fmt=\".2f\")\r\n",
        "plt.show()"
      ],
      "execution_count": 128,
      "outputs": [
        {
          "output_type": "display_data",
          "data": {
            "image/png": "[encoded data removed]",
            "text/plain": [
              "<Figure size 432x288 with 2 Axes>"
            ]
          },
          "metadata": {
            "tags": [],
            "needs_background": "light"
          }
        }
      ]
    },
    {
      "cell_type": "code",
      "metadata": {
        "colab": {
          "base_uri": "https://localhost:8080/",
          "height": 302
        },
        "id": "DCntkoRNDDvt",
        "outputId": "695b4be0-5d7a-4bc0-b5a9-52a6e6a25f2f"
      },
      "source": [
        "loanDf_imp.boxplot(column='total_income', by='Loan_Status',showfliers=False)\r\n",
        "plt.show()"
      ],
      "execution_count": 129,
      "outputs": [
        {
          "output_type": "display_data",
          "data": {
            "image/png": "[encoded data removed]",
            "text/plain": [
              "<Figure size 432x288 with 1 Axes>"
            ]
          },
          "metadata": {
            "tags": [],
            "needs_background": "light"
          }
        }
      ]
    },
    {
      "cell_type": "code",
      "metadata": {
        "colab": {
          "base_uri": "https://localhost:8080/",
          "height": 302
        },
        "id": "2EX6ebtWDGvx",
        "outputId": "1f57e7fd-750d-409f-c14b-7c6c7b0ffe08"
      },
      "source": [
        "loanDf_imp.boxplot(column='Loan_Amount_Term', by='Loan_Status',showfliers=False)\r\n",
        "plt.show()"
      ],
      "execution_count": 130,
      "outputs": [
        {
          "output_type": "display_data",
          "data": {
            "image/png": "[encoded data removed]",
            "text/plain": [
              "<Figure size 432x288 with 1 Axes>"
            ]
          },
          "metadata": {
            "tags": [],
            "needs_background": "light"
          }
        }
      ]
    }
  ]
}